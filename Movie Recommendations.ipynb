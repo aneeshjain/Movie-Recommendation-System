{
 "cells": [
  {
   "cell_type": "markdown",
   "id": "5465e737",
   "metadata": {},
   "source": [
    "### Recommender Systems"
   ]
  },
  {
   "cell_type": "code",
   "execution_count": 11,
   "id": "ed5d648b",
   "metadata": {},
   "outputs": [],
   "source": [
    "import pandas as pd\n",
    "import numpy as np\n",
    "import matplotlib.pyplot as plt\n",
    "import seaborn as sns\n",
    "sns.set_style(\"dark\")"
   ]
  },
  {
   "cell_type": "markdown",
   "id": "23a6e058",
   "metadata": {},
   "source": [
    "Downloading and describing the dataset"
   ]
  },
  {
   "cell_type": "code",
   "execution_count": 12,
   "id": "a4d8a466",
   "metadata": {},
   "outputs": [
    {
     "data": {
      "text/plain": [
       "(943, 1682)"
      ]
     },
     "execution_count": 12,
     "metadata": {},
     "output_type": "execute_result"
    }
   ],
   "source": [
    "cols = ['user_id', 'item_id', 'rating', 'timestamp']\n",
    "item_cols = ['item_id', 'movie_title', 'release_date', 'video_release_date', 'IMDb URL', 'unknown', 'Action', 'Adventure', \n",
    "             'Animation','Children\\'s', 'Comedy', 'Crime', 'Documentary', 'Drama', 'Fantasy', 'Film-Noir', 'Horror',\n",
    "            'Musical', 'Mystery', 'Romance', 'Sci-Fi', 'Thriller', 'War', 'Western']\n",
    "ratings =  pd.read_csv('ml-100k/u.data', sep='\\t', names=cols)\n",
    "items = pd.read_csv('ml-100k/u.item', sep='|', names=item_cols, encoding = 'latin-1')\n",
    "#ratings_base = pd.read_csv('ml-100k/ua.base', sep='\\t', names=cols)\n",
    "#ratings_test = pd.read_csv('ml-100k/ua.test', sep='\\t', names=cols)\n",
    "\n",
    "\n",
    "ratings.describe()\n",
    "\n",
    "n_users_base = ratings['user_id'].unique().max()\n",
    "n_items_base = ratings['item_id'].unique().max()\n",
    "\n",
    "n_users_base,n_items_base"
   ]
  },
  {
   "cell_type": "code",
   "execution_count": 13,
   "id": "7a47af08",
   "metadata": {},
   "outputs": [
    {
     "data": {
      "text/plain": [
       "<function matplotlib.pyplot.show(*args, **kw)>"
      ]
     },
     "execution_count": 13,
     "metadata": {},
     "output_type": "execute_result"
    },
    {
     "data": {
      "image/png": "[encoded data removed]",
      "text/plain": [
       "<Figure size 1800x360 with 2 Axes>"
      ]
     },
     "metadata": {
      "needs_background": "light"
     },
     "output_type": "display_data"
    }
   ],
   "source": [
    "fig, axes = plt.subplots(1,2, figsize=(25, 5))\n",
    "#plt.figure(figsize=(12,8))\n",
    "axes[0].hist(ratings.groupby(\"item_id\").count()[\"user_id\"], bins=70)\n",
    "axes[1].hist(ratings.groupby(\"user_id\").count()[\"item_id\"], bins=70,)\n",
    "axes[0].set_xlabel('Number of users who rated a movie')\n",
    "axes[0].set_ylabel('Number of movies rated by this many users')\n",
    "axes[1].set_xlabel(\"Number of movies rated by a user\")\n",
    "axes[1].set_ylabel(\"Number of users who rated that many movies\")\n",
    "plt.show"
   ]
  },
  {
   "cell_type": "markdown",
   "id": "5ee85278",
   "metadata": {},
   "source": [
    "#### The first plot describes the probability distribution of the number of users who rated a movie. The maximum number of movies is rated by only a small proportion of the users. \n",
    "\n",
    "#### The second plot describes the probability distribution of the number of movies rated by certain number of users. We can see that a very small proportion of movies are rated by the maximum number of users which is also very small compared to the actual number of users (942). A decreasing number of users have rated more than 100 movies.\n",
    "\n",
    "#### Both plots essentially provide the same information, that the user-item matrix is very sparse."
   ]
  },
  {
   "cell_type": "code",
   "execution_count": 15,
   "id": "5a630628",
   "metadata": {},
   "outputs": [
    {
     "name": "stdout",
     "output_type": "stream",
     "text": [
      "Average number of null entries per user:  1575.9554612937434\n"
     ]
    }
   ],
   "source": [
    "# creating the user-item matrix from the given data\n",
    "\n",
    "user_item = ratings.pivot_table(index=\"user_id\",columns=\"item_id\",values='rating')\n",
    "\n",
    "\n",
    "\n",
    "# Calculating the average number of null entries for each user\n",
    "avg_null = 0\n",
    "for i in range(n_users_base):\n",
    "    avg_null += pd.isnull(user_item.iloc[i][:]).sum()   \n",
    "    \n",
    "avg_null = avg_null/n_users_base\n",
    "print(\"Average number of null entries per user: \", avg_null)\n",
    "# As it can be seen, a huge proportion of entries on average are null for each user"
   ]
  },
  {
   "cell_type": "markdown",
   "id": "40a442e8",
   "metadata": {},
   "source": [
    "#### Which again only tells us that most of the user-item matrix is empty\n"
   ]
  },
  {
   "cell_type": "markdown",
   "id": "f9ce2059",
   "metadata": {},
   "source": [
    "#### User-User method"
   ]
  },
  {
   "cell_type": "code",
   "execution_count": 16,
   "id": "5c64112f",
   "metadata": {},
   "outputs": [],
   "source": [
    "user_item = ratings.pivot_table(index=\"user_id\",columns=\"item_id\",values='rating')\n",
    "\n",
    "# Transposing user-item matrix before finding correlation since pandas correlation function works on columns \n",
    "# and we need user-user correlation\n",
    "user_item_trans = user_item.T\n",
    "\n",
    "user_user_corr = user_item_trans.corr(method = 'pearson')\n",
    "\n",
    "# normalising ratings by subtracting the users average rating for items he has rated\n",
    "user_item_norm = user_item.sub(user_item.mean(axis=1), axis=0)\n",
    "\n",
    "# Since a user will always be correlated with himself, setting this correlation as 0 \n",
    "# so that the user himself is not counted as a closest neighbour\n",
    "np.fill_diagonal(user_user_corr.values, 0)\n",
    "\n",
    "# sorting to get 10 closest neighbours\n",
    "sorted_indices = np.argsort(user_user_corr.values, axis = 1)+1"
   ]
  },
  {
   "cell_type": "code",
   "execution_count": 17,
   "id": "74cc3f4d",
   "metadata": {},
   "outputs": [],
   "source": [
    "#Function to give a mapping of 10 closest user to every user\n",
    "def get_neighbours_user(user_user_corr, sorted_indices):\n",
    "    user_neighbours = []\n",
    "    for i in range(len(user_user_corr)):\n",
    "        user_neighbours.append(user_user_corr.iloc[i][sorted_indices[i]].dropna()[-10:].index.values)\n",
    "    return user_neighbours\n",
    "\n",
    "\n",
    "# Function to get ratings of movies rated by the active users nearest neighbours but not rated by the active user\n",
    "def nearest_movie_ratings_user(empty_rating_indices, user_item_matrix, user_neighbours, active_user):\n",
    "        \n",
    "    t = user_item_matrix.loc[user_neighbours[active_user-1], empty_rating_indices]\n",
    "    \n",
    "    return t\n",
    "#Function to get active users nearest neighbour weights\n",
    "def nearest_user_weights_user(empty_rating_indices, user_user_corr, user_neighbours, active_user):\n",
    "    \n",
    "    \n",
    "    y = np.array(user_user_corr.loc[active_user, user_neighbours[active_user-1]])\n",
    "    \n",
    "    w = pd.DataFrame(data  = y, index = user_neighbours[active_user-1])\n",
    "    w = pd.concat([w] * (len(empty_rating_indices)), axis=1, ignore_index=True)\n",
    "    w.columns = empty_rating_indices\n",
    "\n",
    "    return w\n",
    "\n",
    "# Function to calculate predicted rating and give recommendations\n",
    "def get_recommendations_user(w, q, empty_rating_indices, items, active_user, user_item):\n",
    "    \n",
    "    \n",
    "    aumr = np.nanmean(user_item.loc[active_user])\n",
    "    A = w*q\n",
    "    mask = (A).isnull()\n",
    "\n",
    "    sum_weights = np.nansum(w.mask(mask, np.nan), axis = 0)\n",
    "  \n",
    "    sum_weights[sum_weights == 0] = np.nan\n",
    "    ratings = pd.Series(np.nansum(A, axis = 0)/sum_weights, index = empty_rating_indices)\n",
    "    ratings = ratings.dropna()\n",
    "    top_ten = ratings.sort_values()[-10:]+aumr\n",
    "    x = pd.DataFrame(items.loc[items['item_id'].isin(top_ten.index)][['item_id','movie_title']]).join(pd.Series(top_ten, name = 'rating'), on = 'item_id')\n",
    "    return x"
   ]
  },
  {
   "cell_type": "code",
   "execution_count": null,
   "id": "68c69eed",
   "metadata": {},
   "outputs": [],
   "source": [
    "# Getting a mapping of top ten neighbours for all users in the data\n",
    "\n",
    "user_neighbours = get_neighbours_user(user_user_corr, sorted_indices)\n",
    "\n",
    "result = dict()\n",
    "#change range parameters for full list of users. Set to 50 because algorithm takes time to execute\n",
    "for active_user in range(1,51):\n",
    "    # Getting a list of items that have not been rated by active user\n",
    "    empty_rating_indices = user_item.loc[active_user].index[user_item.loc[active_user].isnull()]\n",
    "\n",
    "    # Getting ratings of all the items that have not been rated by the user but have been rated by his nearest neighbours\n",
    "    r = nearest_movie_ratings_user(empty_rating_indices, user_item_norm, user_neighbours, active_user)\n",
    "    # Getting weights of nearest neighbours\n",
    "    s = nearest_user_weights_user(empty_rating_indices, user_user_corr, user_neighbours, active_user)\n",
    "\n",
    "\n",
    "    # Calculating predicted rating and giving recomendations\n",
    "    recs = get_recommendations_user(s, r, empty_rating_indices, items, active_user, user_item)\n",
    "\n",
    "    # Appending to result dictionary\n",
    "    result[active_user] = recs[['movie_title', 'rating']].values.tolist()\n",
    "\n",
    "#Uncomment to see result\n",
    "\n",
    "#print(result)"
   ]
  },
  {
   "cell_type": "code",
   "execution_count": null,
   "id": "8c2bd38b",
   "metadata": {},
   "outputs": [],
   "source": [
    "# Writing file\n",
    "with open('pred_user_user.txt', 'w') as file:\n",
    "    for key, value in result.items():\n",
    "        file.write('{{User {}:{}}}\\n'.format(key, value))"
   ]
  },
  {
   "cell_type": "markdown",
   "id": "38fb994b",
   "metadata": {},
   "source": [
    "#### Item-Item method"
   ]
  },
  {
   "cell_type": "code",
   "execution_count": 18,
   "id": "b2aeca95",
   "metadata": {},
   "outputs": [],
   "source": [
    "##item-item method\n",
    "\n",
    "item_item_corr = user_item.corr(method = 'pearson')\n",
    "# Since a item will always be correlated with itself, setting this correlation as 0 \n",
    "# so that the item itself is not counted as a closest neighbour\n",
    "np.fill_diagonal(item_item_corr.values, 0)\n",
    "sorted_indices = np.argsort(item_item_corr.values, axis = 1)+1"
   ]
  },
  {
   "cell_type": "code",
   "execution_count": 19,
   "id": "30f75d46",
   "metadata": {},
   "outputs": [],
   "source": [
    "#Function to give a mapping of 10 closest items to every item\n",
    "\n",
    "def get_neighbours_item(item_item_corr, sorted_indices):\n",
    "    item_neighbours = []\n",
    "    for i in range(len(item_item_corr)):\n",
    "        item_neighbours.append(item_item_corr.iloc[i][sorted_indices[i]].dropna()[-10:].index.values)\n",
    "    return item_neighbours\n",
    "\n",
    "# Function to get ratings of movies nearest to unrated movies of active user\n",
    "\n",
    "def nearest_movie_ratings_item(empty_rating_indices, user_item_matrix, item_neighbours, active_user):\n",
    "    \n",
    "    q = pd.DataFrame(index = empty_rating_indices, columns= range(10))\n",
    "\n",
    "    for x in q.index:\n",
    "        #print('x: ', x, user_item.loc[active_user , item_neighbours[x-1]])\n",
    "        y = np.array(user_item_matrix.loc[active_user, item_neighbours[x-1]])\n",
    "        if len(y)<10:\n",
    "            y = np.pad(y, (0, 10-len(y)), 'constant', constant_values=(np.nan,))\n",
    "        q.loc[x] = np.array(y)\n",
    "    return q\n",
    "\n",
    "# Function to get the weights of the movies nearest to unrated movies of active user\n",
    "\n",
    "def nearest_movie_weights_item(empty_rating_indices, item_item_corr, item_neighbours, active_user):\n",
    "    w = pd.DataFrame(index = empty_rating_indices, columns= range(10))\n",
    "\n",
    "    for x in w.index:\n",
    "        #print('x: ', x, user_item.loc[active_user , item_neighbours[x-1]])\n",
    "        y = np.array(item_item_corr.loc[x, item_neighbours[x-1]])\n",
    "        if len(y)<10:\n",
    "            y = np.pad(y, (0, 10-len(y)), 'constant', constant_values=(np.nan,))\n",
    "        w.loc[x] = np.array(y)\n",
    "    return w\n",
    "\n",
    "# Function to predict rating and give recommendations\n",
    "def get_recommendations_item(w, q, empty_rating_indices, items):\n",
    "    \n",
    "    A = w*q\n",
    "    #print(A)\n",
    "    mask = (A).isnull()\n",
    "    sum_weights = np.nansum(w.mask(mask, np.nan), axis = 1)\n",
    "    sum_weights[sum_weights == 0] = np.nan\n",
    "    ratings = pd.Series(np.nansum(A, axis = 1)/sum_weights, index = empty_rating_indices)\n",
    "    ratings = ratings.dropna()\n",
    "    top_ten = ratings.sort_values()[-10:]\n",
    "    x = pd.DataFrame(items.loc[items['item_id'].isin(top_ten.index)][['item_id','movie_title']]).join(pd.Series(top_ten, name = 'rating'), on = 'item_id')\n",
    "    return x"
   ]
  },
  {
   "cell_type": "code",
   "execution_count": 21,
   "id": "9fda024b",
   "metadata": {},
   "outputs": [],
   "source": [
    "result = dict()\n",
    "\n",
    "#getting a mapping of the nearest neighbours to all items\n",
    "item_neighbours = get_neighbours_item(item_item_corr, sorted_indices)\n",
    "\n",
    "#Since the alogorithm was taking time to run, I only calculated for first 50 users\n",
    "for active_user in range(1,51):\n",
    "\n",
    "    \n",
    "    # Finding all items for which active user has no rating\n",
    "    empty_rating_indices = user_item.loc[active_user].index[user_item.loc[active_user].isnull()]\n",
    "\n",
    "\n",
    "    #print(pd.DataFrame([item_neighbours[i-1] for i in empty_rating_indices.values], index = empty_rating_indices))\n",
    "    #print(user_item.loc[active_user][item_neighbours[empty_rating_indices.values[1]-1]])\n",
    "    #print(item_item_corr.loc[2][item_neighbours[1]])\n",
    "\n",
    "    \n",
    "    r = nearest_movie_ratings_item(empty_rating_indices, user_item, item_neighbours, active_user)\n",
    "    s = nearest_movie_weights_item(empty_rating_indices, item_item_corr, item_neighbours, active_user)\n",
    "\n",
    "    recs = get_recommendations_item(s, r, empty_rating_indices, items)\n",
    "    result[active_user] = recs[['movie_title', 'rating']].values.tolist()\n",
    "\n",
    "#Uncomment to print result\n",
    "#print(result)"
   ]
  },
  {
   "cell_type": "code",
   "execution_count": null,
   "id": "dccda64b",
   "metadata": {},
   "outputs": [],
   "source": [
    "# Writing file\n",
    "with open('pred_item_item.txt', 'w') as file:\n",
    "    for key, value in result.items():\n",
    "        file.write('{{User {}:{}}}\\n'.format(key, value))"
   ]
  },
  {
   "cell_type": "markdown",
   "id": "03d59318",
   "metadata": {},
   "source": [
    "#### Content Based Recommendation"
   ]
  },
  {
   "cell_type": "code",
   "execution_count": 22,
   "id": "9df52dba",
   "metadata": {},
   "outputs": [
    {
     "name": "stderr",
     "output_type": "stream",
     "text": [
      "/usr/local/lib/python3.7/site-packages/sklearn/feature_extraction/image.py:167: DeprecationWarning: `np.int` is a deprecated alias for the builtin `int`. To silence this warning, use `int` by itself. Doing this will not modify any behavior and is safe. When replacing `np.int`, you may wish to use e.g. `np.int64` or `np.int32` to specify the precision. If you wish to review your current use, check the release note link for additional information.\n",
      "Deprecated in NumPy 1.20; for more details and guidance: https://numpy.org/devdocs/release/1.20.0-notes.html#deprecations\n",
      "  dtype=np.int):\n"
     ]
    }
   ],
   "source": [
    "tmdb = pd.read_csv('TMDB/tmdb_5000_movies.csv')\n",
    "\n",
    "from sklearn.feature_extraction.text import TfidfVectorizer\n",
    "from sklearn.metrics.pairwise import linear_kernel"
   ]
  },
  {
   "cell_type": "code",
   "execution_count": 23,
   "id": "ec561088",
   "metadata": {},
   "outputs": [
    {
     "name": "stderr",
     "output_type": "stream",
     "text": [
      "/usr/local/lib/python3.7/site-packages/ipykernel_launcher.py:7: SettingWithCopyWarning: \n",
      "A value is trying to be set on a copy of a slice from a DataFrame.\n",
      "Try using .loc[row_indexer,col_indexer] = value instead\n",
      "\n",
      "See the caveats in the documentation: https://pandas.pydata.org/pandas-docs/stable/user_guide/indexing.html#returning-a-view-versus-a-copy\n",
      "  import sys\n"
     ]
    }
   ],
   "source": [
    "df = tmdb[['title', 'overview']]\n",
    "tfidf = TfidfVectorizer(stop_words='english')\n",
    "df['overview'].isna().sum()\n",
    "\n",
    "df['overview'].count()\n",
    "\n",
    "df['overview'] = df['overview'].fillna('')"
   ]
  },
  {
   "cell_type": "code",
   "execution_count": 24,
   "id": "444cf8d6",
   "metadata": {},
   "outputs": [
    {
     "name": "stderr",
     "output_type": "stream",
     "text": [
      "/usr/local/lib/python3.7/site-packages/sklearn/metrics/pairwise.py:54: DeprecationWarning: `np.float` is a deprecated alias for the builtin `float`. To silence this warning, use `float` by itself. Doing this will not modify any behavior and is safe. If you specifically wanted the numpy scalar type, use `np.float64` here.\n",
      "Deprecated in NumPy 1.20; for more details and guidance: https://numpy.org/devdocs/release/1.20.0-notes.html#deprecations\n",
      "  dtype = np.float\n"
     ]
    }
   ],
   "source": [
    "#get tf-idf matrix for overview\n",
    "tfidf_matrix_overview= tfidf.fit_transform(df['overview'])\n",
    "\n",
    "# Compute the cosine similarity matrix\n",
    "cosine_sim = linear_kernel(tfidf_matrix_overview, tfidf_matrix_overview)"
   ]
  },
  {
   "cell_type": "code",
   "execution_count": 25,
   "id": "f431bdf6",
   "metadata": {},
   "outputs": [
    {
     "data": {
      "text/plain": [
       "title\n",
       "Avatar                                         0\n",
       "Pirates of the Caribbean: At World's End       1\n",
       "Spectre                                        2\n",
       "The Dark Knight Rises                          3\n",
       "John Carter                                    4\n",
       "                                            ... \n",
       "El Mariachi                                 4798\n",
       "Newlyweds                                   4799\n",
       "Signed, Sealed, Delivered                   4800\n",
       "Shanghai Calling                            4801\n",
       "My Date with Drew                           4802\n",
       "Length: 4803, dtype: int64"
      ]
     },
     "execution_count": 25,
     "metadata": {},
     "output_type": "execute_result"
    }
   ],
   "source": [
    "movie_indices = pd.Series(df.index, index = df['title'])\n",
    "movie_indices"
   ]
  },
  {
   "cell_type": "code",
   "execution_count": 26,
   "id": "b779d401",
   "metadata": {},
   "outputs": [],
   "source": [
    "def get_items(query, cosine_sim = cosine_sim):\n",
    "\n",
    "    # We check if query is present in database\n",
    "    # If it is present we directly get that data point, and get movies similar to that query \n",
    "    # using overview cosine similarity\n",
    "    if query in df['title'].unique():\n",
    "        query_index = movie_indices[query]\n",
    "        \n",
    "        sim_to_query = np.flip(np.argsort(cosine_sim[query_index]))[0]\n",
    "        #print(sim_to_query.shape)\n",
    "\n",
    "    # If query is not present in datbase, we look for closest matching titles in database\n",
    "    else:\n",
    "        \n",
    "        df_title_aug = df['title'].append(pd.Series([query]), ignore_index = True)\n",
    "        \n",
    "        # Finding closest matching titles\n",
    "        tfidf_matrix_title = tfidf.fit_transform(df_title_aug)\n",
    "\n",
    "        cosine_sim_title = linear_kernel(tfidf_matrix_title, tfidf_matrix_title)\n",
    "\n",
    "        title_indices = pd.Series(df_title_aug.index, index = df_title_aug) \n",
    "\n",
    "        title_closest_to_query = np.flip(np.argsort(cosine_sim_title[title_indices[query]]))[1]\n",
    "\n",
    "\n",
    "        # Use the closest matching title and get movies similar to that title\n",
    "        sim_to_query = np.flip(np.argsort(cosine_sim[title_closest_to_query]))\n",
    "    \n",
    "    top_ten = sim_to_query[1:11]\n",
    "    #print(top_ten)\n",
    "    return df['title'].iloc[top_ten]"
   ]
  },
  {
   "cell_type": "code",
   "execution_count": 27,
   "id": "1f7df253",
   "metadata": {},
   "outputs": [
    {
     "name": "stderr",
     "output_type": "stream",
     "text": [
      "/usr/local/lib/python3.7/site-packages/sklearn/metrics/pairwise.py:54: DeprecationWarning: `np.float` is a deprecated alias for the builtin `float`. To silence this warning, use `float` by itself. Doing this will not modify any behavior and is safe. If you specifically wanted the numpy scalar type, use `np.float64` here.\n",
      "Deprecated in NumPy 1.20; for more details and guidance: https://numpy.org/devdocs/release/1.20.0-notes.html#deprecations\n",
      "  dtype = np.float\n"
     ]
    },
    {
     "data": {
      "text/plain": [
       "3604                       Apollo 18\n",
       "2130                    The American\n",
       "634                       The Matrix\n",
       "1341            The Inhabited Island\n",
       "529                 Tears of the Sun\n",
       "1610                           Hanna\n",
       "311     The Adventures of Pluto Nash\n",
       "847                         Semi-Pro\n",
       "775                        Supernova\n",
       "2628             Blood and Chocolate\n",
       "Name: title, dtype: object"
      ]
     },
     "execution_count": 27,
     "metadata": {},
     "output_type": "execute_result"
    }
   ],
   "source": [
    "get_items('avatar')"
   ]
  },
  {
   "cell_type": "code",
   "execution_count": 28,
   "id": "8a08965a",
   "metadata": {},
   "outputs": [
    {
     "name": "stderr",
     "output_type": "stream",
     "text": [
      "/usr/local/lib/python3.7/site-packages/sklearn/metrics/pairwise.py:54: DeprecationWarning: `np.float` is a deprecated alias for the builtin `float`. To silence this warning, use `float` by itself. Doing this will not modify any behavior and is safe. If you specifically wanted the numpy scalar type, use `np.float64` here.\n",
      "Deprecated in NumPy 1.20; for more details and guidance: https://numpy.org/devdocs/release/1.20.0-notes.html#deprecations\n",
      "  dtype = np.float\n"
     ]
    },
    {
     "data": {
      "text/plain": [
       "870                          Superman II\n",
       "10                      Superman Returns\n",
       "2433    Superman IV: The Quest for Peace\n",
       "914                 Central Intelligence\n",
       "4659                          Horse Camp\n",
       "2527         National Lampoon's Vacation\n",
       "3542                                R100\n",
       "45                           World War Z\n",
       "1368                      Identity Thief\n",
       "1237                  The Out-of-Towners\n",
       "Name: title, dtype: object"
      ]
     },
     "execution_count": 28,
     "metadata": {},
     "output_type": "execute_result"
    }
   ],
   "source": [
    "get_items('superman')"
   ]
  },
  {
   "cell_type": "code",
   "execution_count": 29,
   "id": "95430509",
   "metadata": {},
   "outputs": [
    {
     "name": "stderr",
     "output_type": "stream",
     "text": [
      "/usr/local/lib/python3.7/site-packages/sklearn/metrics/pairwise.py:54: DeprecationWarning: `np.float` is a deprecated alias for the builtin `float`. To silence this warning, use `float` by itself. Doing this will not modify any behavior and is safe. If you specifically wanted the numpy scalar type, use `np.float64` here.\n",
      "Deprecated in NumPy 1.20; for more details and guidance: https://numpy.org/devdocs/release/1.20.0-notes.html#deprecations\n",
      "  dtype = np.float\n"
     ]
    },
    {
     "data": {
      "text/plain": [
       "63      The Chronicles of Narnia: The Lion, the Witch ...\n",
       "109     The Chronicles of Narnia: The Voyage of the Da...\n",
       "2122                                           Epic Movie\n",
       "942                                      The Book of Life\n",
       "494                                         The Lion King\n",
       "106                                       Shrek the Third\n",
       "1790                           O Brother, Where Art Thou?\n",
       "2796                                The Prisoner of Zenda\n",
       "38                               The Amazing Spider-Man 2\n",
       "3986                                     The Wizard of Oz\n",
       "Name: title, dtype: object"
      ]
     },
     "execution_count": 29,
     "metadata": {},
     "output_type": "execute_result"
    }
   ],
   "source": [
    "get_items('narnia')"
   ]
  },
  {
   "cell_type": "code",
   "execution_count": null,
   "id": "3e233be6",
   "metadata": {},
   "outputs": [],
   "source": []
  }
 ],
 "metadata": {
  "kernelspec": {
   "display_name": "Python 3",
   "language": "python",
   "name": "python3"
  },
  "language_info": {
   "codemirror_mode": {
    "name": "ipython",
    "version": 3
   },
   "file_extension": ".py",
   "mimetype": "text/x-python",
   "name": "python",
   "nbconvert_exporter": "python",
   "pygments_lexer": "ipython3",
   "version": "3.9.2"
  }
 },
 "nbformat": 4,
 "nbformat_minor": 5
}
